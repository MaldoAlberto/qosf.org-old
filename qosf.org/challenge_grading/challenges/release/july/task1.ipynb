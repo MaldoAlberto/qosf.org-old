{
 "cells": [
  {
   "cell_type": "markdown",
   "id": "c291b6e6",
   "metadata": {},
   "source": [
    "# Quantum Open Source Foundation Monthly Challenge\n",
    "## Quantum Computing with Qiskit\n",
    "\n",
    "Welcome to the qosf.org monthly challenge! This notebook will guide you through installing Qiskit and performing a simple quantum computing task: applying a controlled-X (CX) gate from qubit 0 to qubit 1 and reading the output."
   ]
  },
  {
   "cell_type": "markdown",
   "id": "5911337b",
   "metadata": {},
   "source": [
    "### Step 1: Install Qiskit\n",
    "First, we need to install Qiskit, a comprehensive open-source quantum computing framework.\n",
    "Run the following cell to install Qiskit."
   ]
  },
  {
   "cell_type": "code",
   "execution_count": null,
   "id": "4eba720f",
   "metadata": {},
   "outputs": [],
   "source": [
    "# If you run this notebook on mac, you need to use pip3 instead\n",
    "!pip install \"qiskit[visualization]\"\n",
    "!pip install matplotlib\n",
    "!pip install pylatexenc"
   ]
  },
  {
   "cell_type": "markdown",
   "id": "cf7a92b9",
   "metadata": {},
   "source": [
    "### Step 2: Import Qiskit and Create a Quantum Circuit\n",
    "Next, let's import Qiskit and create a quantum circuit with 2 qubits and 2 classical bits."
   ]
  },
  {
   "cell_type": "code",
   "execution_count": 11,
   "id": "28f9e685",
   "metadata": {},
   "outputs": [],
   "source": [
    "from qiskit import QuantumCircuit\n",
    "from qiskit.visualization import plot_histogram\n",
    "\n",
    "# Create a Quantum Circuit with 2 qubits and 2 classical bits\n",
    "qc = QuantumCircuit(2, 2)"
   ]
  },
  {
   "cell_type": "markdown",
   "id": "3e0d12d6",
   "metadata": {},
   "source": [
    "### Step 3: Apply a Controlled-X (CX) Gate\n",
    "Now, apply a controlled-X (CX) gate from qubit 0 to qubit 1."
   ]
  },
  {
   "cell_type": "code",
   "execution_count": 12,
   "id": "ca7bbb0f",
   "metadata": {
    "deletable": false,
    "nbgrader": {
     "cell_type": "code",
     "checksum": "e562add774a207bec89dde823ac2fb75",
     "grade": false,
     "grade_id": "answer1",
     "locked": false,
     "schema_version": 3,
     "solution": true,
     "task": false
    }
   },
   "outputs": [
    {
     "data": {
      "text/html": [
       "<pre style=\"word-wrap: normal;white-space: pre;background: #fff0;line-height: 1.1;font-family: &quot;Courier New&quot;,Courier,monospace\">          ┌─┐   \n",
       "q_0: ──■──┤M├───\n",
       "     ┌─┴─┐└╥┘┌─┐\n",
       "q_1: ┤ X ├─╫─┤M├\n",
       "     └───┘ ║ └╥┘\n",
       "c: 2/══════╩══╩═\n",
       "           0  1 </pre>"
      ],
      "text/plain": [
       "          ┌─┐   \n",
       "q_0: ──■──┤M├───\n",
       "     ┌─┴─┐└╥┘┌─┐\n",
       "q_1: ┤ X ├─╫─┤M├\n",
       "     └───┘ ║ └╥┘\n",
       "c: 2/══════╩══╩═\n",
       "           0  1 "
      ]
     },
     "execution_count": 12,
     "metadata": {},
     "output_type": "execute_result"
    }
   ],
   "source": [
    "# Write your code here and don't change the variable or circuit name (qc)\n",
    "\n",
    "# Apply a controlled-X (CX) gate from qubit 0 to qubit 1 and then measure the quibits\n",
    "\n",
    "# YOUR CODE HERE\n",
    "qc.cx(0, 1)\n",
    "qc.measure([0, 1], [0, 1])\n",
    "\n",
    "# Now let's draw the circuit\n",
    "qc.draw(output='text')"
   ]
  },
  {
   "cell_type": "markdown",
   "id": "75d856e4",
   "metadata": {},
   "source": [
    "### Step 4: Check Your Results\n",
    "To verify your implementation, run the following cell to check your circuit"
   ]
  },
  {
   "cell_type": "code",
   "execution_count": 13,
   "id": "952edfa4-7e64-475b-9d2e-dd953894e999",
   "metadata": {
    "deletable": false,
    "editable": false,
    "nbgrader": {
     "cell_type": "code",
     "checksum": "20ff9978493354eae5376e4e5fdefaf8",
     "grade": true,
     "grade_id": "test1",
     "locked": true,
     "points": 1,
     "schema_version": 3,
     "solution": false,
     "task": false
    }
   },
   "outputs": [
    {
     "name": "stdout",
     "output_type": "stream",
     "text": [
      "Done!\n"
     ]
    }
   ],
   "source": [
    "\n",
    "assert str(qc.data[0][0]) == \"Instruction(name='cx', num_qubits=2, num_clbits=0, params=[])\"\n",
    "print(\"Done!\")"
   ]
  },
  {
   "cell_type": "markdown",
   "id": "abcf403d",
   "metadata": {},
   "source": [
    "Congratulations! You've completed the challenge. Feel free to explore more with Qiskit and quantum computing."
   ]
  }
 ],
 "metadata": {
  "kernelspec": {
   "display_name": "Python 3 (ipykernel)",
   "language": "python",
   "name": "python3"
  },
  "language_info": {
   "codemirror_mode": {
    "name": "ipython",
    "version": 3
   },
   "file_extension": ".py",
   "mimetype": "text/x-python",
   "name": "python",
   "nbconvert_exporter": "python",
   "pygments_lexer": "ipython3",
   "version": "3.11.6"
  }
 },
 "nbformat": 4,
 "nbformat_minor": 5
}
